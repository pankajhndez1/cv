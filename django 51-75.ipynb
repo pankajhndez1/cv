{
 "cells": [
  {
   "cell_type": "markdown",
   "metadata": {},
   "source": [
    "# 51. Validating complete Django form at once in django."
   ]
  },
  {
   "cell_type": "markdown",
   "metadata": {},
   "source": [
    "## Validation of Complete Django Form at once"
   ]
  },
  {
   "cell_type": "raw",
   "metadata": {},
   "source": [
    "clean() – The clean() method on a Field subclass is responsible for running to_python(), validate(), and run_validators() in the correct order and propagating their errors. \n",
    "\n",
    "If, at any time, any of the methods raise ValidationError, the validation stops and that error is raised. \n",
    "\n",
    "This method returns the clean data, which is then inserted into the cleaned_data dictionary of the form.\n",
    "\n",
    "Implement a clean() method on your Form when you must add custom validation for fields that are interdependent.\n",
    "\n",
    "Syntax:- Form.clean()\n"
   ]
  },
  {
   "cell_type": "markdown",
   "metadata": {},
   "source": [
    "## Validation of Complete Django Form at once\n"
   ]
  },
  {
   "cell_type": "markdown",
   "metadata": {},
   "source": [
    "## forms.py :"
   ]
  },
  {
   "cell_type": "raw",
   "metadata": {},
   "source": [
    "from Django import forms\n",
    "\n",
    "class StudentRegistration(forms.Form):\n",
    "name=forms.CharField()\n",
    "email=forms.EmailField()\n",
    "\n",
    "def clean(self):   # The clean() method [ should be written as it is !! ]\n",
    "cleaned_data = super().clean()                                # this should be written too !!\n",
    "valname=self.cleaned_data[‘name’]                             # note :'self'  is used here to access the name from the field !!\n",
    "\n",
    "if len(valname)<4:\n",
    "raise forms.ValidationError(‘Name should be more than or equal 4’)\n",
    "valemail=self.cleaned_data[‘email’]\n",
    "if len(valemail)<10:\n",
    "raise forms.ValidationError(‘Email should be more than or equal 10’)\n"
   ]
  },
  {
   "cell_type": "markdown",
   "metadata": {},
   "source": [
    "## views.py :"
   ]
  },
  {
   "cell_type": "raw",
   "metadata": {},
   "source": [
    "from django.shortcuts import render\n",
    "from django.http import HttpResponseRedirect\n",
    "from .forms import StudentRegistration\n",
    "\n",
    "# Create your views here.\n",
    "\n",
    "def showformdata(request):\n",
    " if request.method == 'POST':\n",
    "  fm = StudentRegistration(request.POST)\n",
    "  if fm.is_valid():\n",
    "   print('Form Validated')\n",
    "   print('Name:', fm.cleaned_data['name'])\n",
    "   print('Email:', fm.cleaned_data['email'])\n",
    "   \n",
    " else:\n",
    "  fm = StudentRegistration()\n",
    "\n",
    " return render(request, 'enroll/userregistration.html', {'form':fm})\n"
   ]
  },
  {
   "cell_type": "markdown",
   "metadata": {},
   "source": [
    "# 52. Built in validators and custom validators in Django "
   ]
  },
  {
   "cell_type": "raw",
   "metadata": {},
   "source": [
    "Using Built-in Validators\n",
    "We can use Built-in Validators, available in django.core module.\n",
    "\n",
    "\n",
    "forms.py :\n",
    "    \n",
    "    \n",
    "form django.core import validators\n",
    "from django import forms\n",
    "\n",
    "class StudentRegistration(forms.Form):\n",
    "    name=forms.CharField(validators=[validators.MaxLengthValidator(10)])\n",
    "    email=forms.EmailField()\n"
   ]
  },
  {
   "cell_type": "markdown",
   "metadata": {},
   "source": [
    "## Create Custom Form Validators :"
   ]
  },
  {
   "cell_type": "raw",
   "metadata": {},
   "source": [
    "forms.py :\n",
    "    \n",
    "    \n",
    "form django.core import validators\n",
    "from django import forms\n",
    "\n",
    "\n",
    "def starts_with_s(value):\n",
    "   if vaule[0] != ‘s’:\n",
    "    raise forms.ValidationError(‘Name should start with s’)\n",
    "    \n",
    "    \n",
    "class StudentRegistration(forms.Form):\n",
    "    name=forms.CharField(validators=[starts_with_s])\n",
    "    email=forms.EmailField("
   ]
  },
  {
   "cell_type": "markdown",
   "metadata": {},
   "source": [
    "## forms.py : imp !"
   ]
  },
  {
   "cell_type": "raw",
   "metadata": {},
   "source": [
    "from django import forms\n",
    "from django.core.exceptions import ValidationError\n",
    "from django.core import validators\n",
    "\n",
    "def name_with_s(value):\n",
    "    if value[0]!=\"S\":\n",
    "        raise forms.ValidationError('name should start with S')\n",
    "\n",
    "\n",
    "def name_error(value):\n",
    "    x=len(value)\n",
    "    for i in range(x+1):\n",
    "        if value[i]=='*' or value[i]=='&':\n",
    "            raise forms.ValidationError('name should not have the special characters')\n",
    "\n",
    "\n",
    "\n",
    "class myform(forms.Form):\n",
    "    name=forms.CharField(validators=[name_with_s,name_error])\n",
    "    email=forms.EmailField()"
   ]
  },
  {
   "cell_type": "markdown",
   "metadata": {},
   "source": [
    "# 53. Form Validation – Match Two field value"
   ]
  },
  {
   "cell_type": "raw",
   "metadata": {},
   "source": [
    "forms.py :\n",
    "    \n",
    "from Django import forms\n",
    "class StudentRegistration(forms.Form):\n",
    "    name=forms.CharField()\n",
    "    password=forms.CharField(widget=forms.PasswordInput)\n",
    "    rpassword=forms.CharField(widget=forms.PasswordInput)\n",
    "    \n",
    "def clean(self):\n",
    "    cleaned_data = super().clean()\n",
    "    valpwd=cleaned_data[‘password’] // cleaned_data.get(‘password’)\n",
    "    valrpwd=cleaned_data[‘rpassword’]\n",
    "    if valpwd != valrpwd :\n",
    "        raise forms.ValidationError(‘Password Not Matched’)\n"
   ]
  },
  {
   "cell_type": "markdown",
   "metadata": {},
   "source": [
    "# 54. Styling Django Form Errors and Field Error in Django"
   ]
  },
  {
   "cell_type": "markdown",
   "metadata": {},
   "source": [
    "# Field Error :"
   ]
  },
  {
   "cell_type": "raw",
   "metadata": {},
   "source": [
    "{{ field.errors }} - It outputs a <ul class=\"errorlist\"> containing any validation errors corresponding to this field. \n",
    "You can customize the presentation of the errors with a {% for error in field.errors %} loop. In this case, each object in the loop is a string containing the error message.\n",
    "\n",
    "\n",
    "\n",
    "Example:- {{ form.name.errors }}\n",
    "    \n",
    "    \n",
    "<ul class=\"errorlist\">\n",
    "<li>Enter Your Name</li>\n",
    "</ul>\n",
    "{{ form.non_field_errors }} - This should be at the top of the form and the template lookup for errors on each field.\n",
    "\n",
    "\n",
    "\n",
    "\n",
    "Example:- {{ form.non_field_errors }}\n",
    "\n",
    "\n",
    "<ul class=\"errorlist nonfield\">\n",
    "<li>Generic validation error</li>\n",
    "</ul>\n"
   ]
  },
  {
   "cell_type": "markdown",
   "metadata": {},
   "source": [
    "## forms.py :"
   ]
  },
  {
   "cell_type": "raw",
   "metadata": {},
   "source": [
    "from django.core import validators\n",
    "from django import forms\n",
    "\n",
    "class StudentRegistration(forms.Form):\n",
    "    error_css_class='error'\n",
    "    required_css_class='required'\n",
    "    name = forms.CharField(error_messages={'required':'Enter Your Name'})\n",
    "    email = forms.EmailField(error_messages={'required':'Enter Your Email'}, min_length=5, max_length=50 )\n",
    "    password = forms.CharField(widget=forms.PasswordInput, error_messages={'required':'Enter Your Password'}, min_length=5,         max_length=50) \n",
    "\n"
   ]
  },
  {
   "cell_type": "markdown",
   "metadata": {},
   "source": [
    "## html :"
   ]
  },
  {
   "cell_type": "raw",
   "metadata": {},
   "source": [
    "<!DOCTYPE html>\n",
    "<html lang=\"en\">\n",
    "<head>\n",
    " <meta charset=\"UTF-8\">\n",
    " <meta name=\"viewport\" content=\"width=device-width, initial-scale=1.0\">\n",
    " <title>User Registration</title>\n",
    " <style>\n",
    " .errorlist{\n",
    "  list-style-type:none;\n",
    "  color:red;\n",
    "  font-size:10px;\n",
    "  margin:0;\n",
    "  padding:0;\n",
    " }\n",
    " </style>\n",
    "</head>\n",
    "<body>\n",
    "\n",
    "\n",
    "\n",
    "\n",
    " <h3>Example 1</h3>\n",
    " \n",
    "  <form action=\"\" method=\"POST\" novalidate> {% csrf_token %}\n",
    "    {{ form.non_field_errors }}\n",
    "    {{form.as_p}}\n",
    "    <input type=\"submit\" value=\"Submit\">\n",
    "  </form>\n",
    "  \n",
    "  \n",
    "  \n",
    "\n",
    "  <h3>Example 2</h3>\n",
    "  \n",
    "  <form action=\"\" method=\"POST\" novalidate> {% csrf_token %}\n",
    "    {{ form.non_field_errors }}\n",
    "      {% for field in form %}\n",
    "        <div>\n",
    "          {{ field.label_tag }} {{ field }} <span>{{field.errors|striptags}}</span>\n",
    "        </div>\n",
    "      {% endfor %}\n",
    "    <input type=\"submit\" value=\"Submit\">\n",
    "  </form>\n",
    "\n",
    "\n",
    "\n",
    "\n",
    "\n",
    "  <h3>Example 3</h3>\n",
    "  \n",
    "  <form action=\"\" method=\"POST\" novalidate> {% csrf_token %}\n",
    "    {{ form.non_field_errors }}\n",
    "    {% for field in form %}\n",
    "      <div>\n",
    "        {{ field.label_tag }} {{ field }} \n",
    "        {% for error in field.errors %}\n",
    "          <span class='errorlist'>{{error}}</span>\n",
    "        {% endfor %} \n",
    "      </div>\n",
    "    {% endfor %}\n",
    "  <input type=\"submit\" value=\"Submit\">\n",
    " </form>\n",
    " \n",
    " \n",
    " \n",
    "</body>\n",
    "</html>"
   ]
  },
  {
   "cell_type": "markdown",
   "metadata": {},
   "source": [
    "# 55. save update and delete form data to/from database in Django ."
   ]
  },
  {
   "cell_type": "raw",
   "metadata": {},
   "source": [
    "In order to save the form data in the database using form API then we have to do it in this particular way :"
   ]
  },
  {
   "cell_type": "markdown",
   "metadata": {},
   "source": [
    "## project's urls.py :"
   ]
  },
  {
   "cell_type": "raw",
   "metadata": {},
   "source": [
    "from django.contrib import admin\n",
    "from django.urls import path,include\n",
    "\n",
    "urlpatterns = [\n",
    "    path('admin/', admin.site.urls),\n",
    "    path('',include('app1.urls')),\n",
    "]\n"
   ]
  },
  {
   "cell_type": "markdown",
   "metadata": {},
   "source": [
    "## app urls.py :"
   ]
  },
  {
   "cell_type": "raw",
   "metadata": {},
   "source": [
    "from django.urls import path\n",
    "from .import views\n",
    "urlpatterns = [\n",
    "    path('', views.myfunc,name='myfunc'),\n",
    "    path('userinfo/',views.userinfo,name='userinfo'),\n",
    "    path('userinfo/success/',views.success,name='success'),\n",
    "]\n"
   ]
  },
  {
   "cell_type": "markdown",
   "metadata": {},
   "source": [
    "## views.py :"
   ]
  },
  {
   "cell_type": "raw",
   "metadata": {},
   "source": [
    "from django.shortcuts import render\n",
    "from django.http import HttpResponseRedirect\n",
    "from .forms import myform,userinfor\n",
    "from .models import mymodel\n",
    "\n",
    "from django.contrib.auth.hashers import make_password  # for making the password hashed , so that admin can't see the password!\n",
    "\n",
    "\n",
    "# Create your views here.\n",
    "def myfunc(request):\n",
    "    myf=myform()\n",
    "    if request.method=='POST':\n",
    "        myf=myform(request.POST)\n",
    "        if myf.is_valid():\n",
    "            print()\n",
    "            print()\n",
    "            print('your data is valid !!!')\n",
    "            return HttpResponseRedirect('userinfo/') \n",
    "\n",
    "\n",
    "    else:\n",
    "        return render(request,'app1/app1.html',{'key':myf})\n",
    "\n",
    "\n",
    "def userinfo(request):\n",
    "    myc=userinfor()\n",
    "    if request.method=='POST':\n",
    "        myc=userinfor(request.POST)\n",
    "        if myc.is_valid():\n",
    "            nm=myc.cleaned_data['name']\n",
    "            rl=myc.cleaned_data['roll']\n",
    "            el=myc.cleaned_data['email']\n",
    "            pw=make_password(myc.cleaned_data['password'])\n",
    "            # myd=mymodel(id=18,name=nm,roll=rl,password=pw,email=el)   # to save \n",
    "            # myd.save()\n",
    "            \n",
    "            myd=mymodel(id=17)                                          # to delete           \n",
    "            myd.delete()\n",
    "            \n",
    "           \n",
    "            myd=mymodel(id=17)                       # to update , it will update a particular id=17 record .\n",
    "            myd.save()\n",
    "            \n",
    "            return HttpResponseRedirect('success')\n",
    "    else:\n",
    "        return render(request,'app1/userinfo.html',{'key':myc})\n",
    "\n",
    "\n",
    "def success(request):\n",
    "    return render(request,'app1/success.html')"
   ]
  },
  {
   "cell_type": "markdown",
   "metadata": {},
   "source": [
    "# note :"
   ]
  },
  {
   "cell_type": "markdown",
   "metadata": {},
   "source": [
    "## imp imp imp imp !!!"
   ]
  },
  {
   "cell_type": "code",
   "execution_count": null,
   "metadata": {},
   "outputs": [],
   "source": [
    "# for making the password hashed , so that admin can't see the password!"
   ]
  },
  {
   "cell_type": "raw",
   "metadata": {},
   "source": [
    "from django.contrib.auth.hashers import make_password  \n",
    "\n",
    "\n",
    "for saving the data in the database :\n",
    "\n",
    "\n",
    "\n",
    "nm=myc.cleaned_data['name']\n",
    "rl=myc.cleaned_data['roll']\n",
    "el=myc.cleaned_data['email']\n",
    "pw=make_password(myc.cleaned_data['password'])       # make_password  : to make the password random value in the database .\n",
    "myd=mymodel(name=nm,roll=rl,password=pw,email=el)    # model's form class object and data inserted into the model's fields\n",
    "                                                     # name=nm , roll=rl , password=pw , email=el  \n",
    "                                                     # here {name,roll, password, email} are the field of the model's class.`\n",
    "                                                     # myd=mymodel(name=nm,roll=rl,password=pw,email=el)\n",
    "                                                     # here 'myd' is the  object of the model form .\n",
    "                 \n",
    "       \n",
    "myd.save()                 # now , using  'myd'  along with the save() method will save the data in the database ."
   ]
  },
  {
   "cell_type": "markdown",
   "metadata": {},
   "source": [
    "## models.py :"
   ]
  },
  {
   "cell_type": "raw",
   "metadata": {},
   "source": [
    "from django.db import models\n",
    "from django.forms import widgets\n",
    "\n",
    "# Create your models here.\n",
    "\n",
    "class mymodel(models.Model):\n",
    "    name=models.CharField(max_length=30)  # max_length is compulsary in case of models file .\n",
    "    roll=models.IntegerField()\n",
    "    email=models.EmailField()\n",
    "    password=models.CharField(max_length=30)\n"
   ]
  },
  {
   "cell_type": "markdown",
   "metadata": {},
   "source": [
    "## admins.py :"
   ]
  },
  {
   "cell_type": "raw",
   "metadata": {},
   "source": [
    "from django.contrib import admin\n",
    "from .models import mymodel\n",
    "\n",
    "# Register your models here.\n",
    "\n",
    "@admin.register(mymodel)\n",
    "\n",
    "class mymodelAdmin(admin.ModelAdmin):\n",
    "    list_display=('id','name', 'roll','email','password') \n"
   ]
  },
  {
   "cell_type": "markdown",
   "metadata": {},
   "source": [
    "## forms.py :"
   ]
  },
  {
   "cell_type": "raw",
   "metadata": {},
   "source": [
    "from django import forms\n",
    "from django.forms import widgets\n",
    "\n",
    "\n",
    "class myform(forms.Form):\n",
    "    email=forms.EmailField()\n",
    "    password=forms.CharField(min_length=5, max_length=50, widget=forms.PasswordInput)\n",
    "\n",
    "class userinfor(forms.Form):\n",
    "    name=forms.CharField()\n",
    "    roll=forms.IntegerField()\n",
    "    email=forms.EmailField()\n",
    "    password=forms.CharField(widget=forms.PasswordInput)\n"
   ]
  },
  {
   "cell_type": "markdown",
   "metadata": {},
   "source": [
    "## app1.html :"
   ]
  },
  {
   "cell_type": "raw",
   "metadata": {},
   "source": [
    "<!DOCTYPE html>\n",
    "<html lang=\"en\">\n",
    "\n",
    "<head>\n",
    "    <meta charset=\"UTF-8\">\n",
    "    <meta http-equiv=\"X-UA-Compatible\" content=\"IE=edge\">\n",
    "    <meta name=\"viewport\" content=\"width=device-width, initial-scale=1.0\">\n",
    "    <title>user login</title>\n",
    "    <style>\n",
    "        .box{\n",
    "            background-color: cadetblue;\n",
    "            color:  white;\n",
    "            text-align: center;\n",
    "            height: 50px;\n",
    "            text-shadow: 3px 3px 3px black;\n",
    "        }\n",
    "        .form{\n",
    "            background-color: white;\n",
    "            font-size: 20px;\n",
    "        }\n",
    "    </style>\n",
    "</head>\n",
    "\n",
    "<body>\n",
    "    <table>\n",
    "        <div class=\"box\"><h2> user login </h2></div>\n",
    "        <div class=\"form\">\n",
    "        <form action=\"\" method=\"POST\">\n",
    "            {% csrf_token %}\n",
    "            {{key.as_p}}\n",
    "            <input type=\"submit\" value='submit' >\n",
    "        </div>\n",
    "        </form>\n",
    "\n",
    "    </table>\n",
    "</body>\n",
    "\n",
    "</html>"
   ]
  },
  {
   "cell_type": "markdown",
   "metadata": {},
   "source": [
    "## userinfo.html :"
   ]
  },
  {
   "cell_type": "raw",
   "metadata": {},
   "source": [
    "<!DOCTYPE html>\n",
    "<html lang=\"en\">\n",
    "\n",
    "<head>\n",
    "    <meta charset=\"UTF-8\">\n",
    "    <meta http-equiv=\"X-UA-Compatible\" content=\"IE=edge\">\n",
    "    <meta name=\"viewport\" content=\"width=device-width, initial-scale=1.0\">\n",
    "    <title>user info</title>\n",
    "    <style>\n",
    "        .mydiv{\n",
    "            text-align: center;\n",
    "            height: 50px;\n",
    "            text-shadow: 3px 3px 3px black;\n",
    "            font-size: 30px;\n",
    "            background-color: cadetblue;\n",
    "            color: white;\n",
    "        }\n",
    "    </style>\n",
    "</head>\n",
    "\n",
    "<body>\n",
    "    <div class=\"mydiv\"> please enter the following details :</div>\n",
    "    <form action=\"\" method=\"POST\"> {% csrf_token %}\n",
    "        {{key.as_p}}\n",
    "        <input type=\"submit\" value='submit'>\n",
    "    </form>\n",
    "</body>\n",
    "\n",
    "</html>"
   ]
  },
  {
   "cell_type": "markdown",
   "metadata": {},
   "source": [
    "## success.html :"
   ]
  },
  {
   "cell_type": "raw",
   "metadata": {},
   "source": [
    "<!DOCTYPE html>\n",
    "<html lang=\"en\">\n",
    "<head>\n",
    "    <meta charset=\"UTF-8\">\n",
    "    <meta http-equiv=\"X-UA-Compatible\" content=\"IE=edge\">\n",
    "    <meta name=\"viewport\" content=\"width=device-width, initial-scale=1.0\">\n",
    "    <title>success</title>\n",
    "    <style>\n",
    "        h3{\n",
    "            color: red;\n",
    "        }\n",
    "    </style>\n",
    "</head>\n",
    "<body>\n",
    "    <h3>you have successfuly submitted your data ...</h3>\n",
    "    <br>\n",
    "    <br>\n",
    "    <br>\n",
    "    <a href=\"{% url 'userinfo' %}\">click here to store more data</a>\n",
    "</body>\n",
    "\n",
    "</html>"
   ]
  },
  {
   "cell_type": "markdown",
   "metadata": {},
   "source": [
    "# 56. Model form in Django"
   ]
  },
  {
   "cell_type": "markdown",
   "metadata": {},
   "source": [
    "## forms.py examples :"
   ]
  },
  {
   "cell_type": "raw",
   "metadata": {},
   "source": [
    "from django import forms\n",
    "from django.forms import widgets\n",
    "\n",
    "class Registration(forms.Form):\n",
    "    name=forms.CharField(widget=forms.HiddenInput)    # HiddenInput\n"
   ]
  },
  {
   "cell_type": "markdown",
   "metadata": {},
   "source": [
    "## forms.py examples :"
   ]
  },
  {
   "cell_type": "raw",
   "metadata": {},
   "source": [
    "from django import forms\n",
    "from django.forms import widgets\n",
    "\n",
    "class Registration(forms.Form):\n",
    "    name=forms.CharField(widget=forms.TextInput(attrs={'class':'somecss1'}))  # TextInput(attrs={'class':'somecss1'})\n",
    "    \n",
    "   \n",
    "   \n",
    "# (widget=forms.TextInput(attrs={'class':'somecss1'})  # we can basically use the 'attrs' i.e atrribute in the TextInput field                                                          # type , by which now we can define the 'class':'somecss1' due to which\n",
    "                                                       # now we are able to define css for the field 'name' ."
   ]
  },
  {
   "cell_type": "markdown",
   "metadata": {},
   "source": [
    "## forms.py examples :"
   ]
  },
  {
   "cell_type": "raw",
   "metadata": {},
   "source": [
    "name = forms.CharField(min_length=5, max_length=50, strip=False , empty_value='Sonam',error_messages={'required':'Enter Your Name'})"
   ]
  },
  {
   "cell_type": "markdown",
   "metadata": {},
   "source": [
    "## forms.py examples :"
   ]
  },
  {
   "cell_type": "raw",
   "metadata": {},
   "source": [
    "from django import forms\n",
    "\n",
    "class StudentRegistration(forms.Form):\n",
    "\n",
    "name = forms.CharField(min_length=5, max_length=50, strip=False , empty_value='Sonam',error_messages={'required':'Enter Your Name'})\n",
    "\n",
    " roll = forms.IntegerField(min_value=5, max_value=40)\n",
    "\n",
    " price = forms.DecimalField(min_value=5, max_value=40, max_digits=4, decimal_places=1)\n",
    "\n",
    " rate = forms.FloatField(min_value=5, max_value=40)\n",
    "\n",
    " comment=forms.SlugField()\n",
    "\n",
    " email=forms.EmailField(min_length=5, max_length=50)\n",
    "\n",
    " website=forms.URLField(min_length=5, max_length=50)\n",
    "\n",
    " password=forms.CharField(min_length=5, max_length=50, widget=forms.PasswordInput)\n",
    "\n",
    " description=forms.CharField(widget=forms.Textarea)\n",
    "\n",
    " feedback=forms.CharField(min_length=5, max_length=50, widget=forms.TextInput(attrs={'class':'somecss1 somecss2', 'id':'uniqueid','placeholder':'yaha pr aap kch b likh skte hai'}))\n",
    "\n",
    " notes=forms.CharField(widget=forms.Textarea(attrs={'rows':3, 'cols':50}))\n",
    " \n",
    " agree = forms.BooleanField( label_suffix='', label='I Agree')\n",
    "\n"
   ]
  },
  {
   "cell_type": "raw",
   "metadata": {},
   "source": [
    "so , basically earlier we were using the forms API to basically show the form at the o/p of the html , but now we can actually don't need to make a form API to do so , now we can simply just use the model's class to make a form with same field as defined in  the model class , and can the display the form with same field using the MOdel form ."
   ]
  },
  {
   "cell_type": "markdown",
   "metadata": {},
   "source": [
    "# Model form :"
   ]
  },
  {
   "cell_type": "raw",
   "metadata": {},
   "source": [
    "Django provides a helper class that lets you create a Form class from a Django model. This helper class is called as ModelForm.\n",
    "ModelForm is a regular Form which can automatically generate certain fields. \n",
    "\n",
    "The fields that are automatically generated depend on the content of the Meta class and on which fields have already been defined declaratively.\n",
    "\n",
    "Steps:-\n",
    "\n",
    "• Create Model Class\n",
    "• Create ModelForm Class\n",
    "\n",
    "\n",
    "\n",
    "Syntax:-\n",
    "\n",
    "forms.py\n",
    "class ModelFormClassName(forms.ModelForm):\n",
    "class Meta:\n",
    "model = ModelClassName\n",
    "fields = [‘fieldname1', ‘fieldname2', ‘fieldname3’]\n",
    "fields = (‘fieldname1', ‘fieldname2', ‘fieldname3’)\n",
    "\n",
    "\n"
   ]
  },
  {
   "attachments": {
    "Screenshot%202021-10-29%20234613.png": {
     "image/png": "[encoded data removed]"
    }
   },
   "cell_type": "markdown",
   "metadata": {},
   "source": [
    "![Screenshot%202021-10-29%20234613.png](attachment:Screenshot%202021-10-29%20234613.png)"
   ]
  },
  {
   "cell_type": "markdown",
   "metadata": {},
   "source": [
    "## example :"
   ]
  },
  {
   "cell_type": "raw",
   "metadata": {},
   "source": [
    "class Registration(forms.ModelForm):\n",
    "class Meta:\n",
    "model = User\n",
    "fields = [‘name’, ‘password’, ‘email']"
   ]
  },
  {
   "cell_type": "markdown",
   "metadata": {},
   "source": [
    "## Model Form :"
   ]
  },
  {
   "cell_type": "raw",
   "metadata": {},
   "source": [
    "• If the model field has blank=True, then required is set to False on the form field. Otherwise, required=True.\n",
    "\n",
    "• The form field’s label is set to the verbose_name of the model field, with the first character capitalized.\n",
    "\n",
    "• The form field’s help_text is set to the help_text of the model field.\n",
    "\n",
    "• If the model field has choices set, then the form field’s widget will be set to Select, with choices coming from the model       field’s choices. The choices will normally include the blank choice which is selected by default. If the field is required,     this forces the user to make a selection. The blank choice will not be included if the model field has \n",
    "  blank=False and an explicit default value (the default value will be initially selected instead).\n"
   ]
  },
  {
   "cell_type": "markdown",
   "metadata": {},
   "source": [
    "# Model Form example  :"
   ]
  },
  {
   "cell_type": "raw",
   "metadata": {},
   "source": [
    "class Registration(forms.ModelForm):\n",
    "\n",
    "class Meta:\n",
    "\n",
    "model = User                               # note here User is the model class name imported from the models.py file \n",
    "\n",
    "fields = [‘name’, ‘password’, ‘email’]\n",
    "\n",
    "labels = {‘name’: ‘Enter Name’, ‘password’: ‘Enter Password’, ‘email’: ‘Enter Email’ }\n",
    "\n",
    "help_text = {‘name’: ‘Enter Your Full Name’ }\n",
    "\n",
    "error_messages = {‘name’: {‘required’: ‘Naam Likhna Jaruri Hai’}, ‘password’: {‘required’: ‘Password Likhna Jaruri Hai’} }\n",
    "\n",
    "widgets = { ‘password’: forms.PasswordInput,‘name’: forms.TextInput(attrs={‘class’: ‘myclass’, ‘placeholder’: ‘Yaha Naam likhe’}), "
   ]
  },
  {
   "cell_type": "markdown",
   "metadata": {},
   "source": [
    "# Model Form example :"
   ]
  },
  {
   "cell_type": "raw",
   "metadata": {},
   "source": [
    "class Registration(forms.ModelForm):\n",
    "\n",
    "name = forms.CharField(max_length=50, required=False)   # this max_length will be having more priority as compared to the                                                               # models.py max_length defined for the same field , i.e 'name' .\n",
    "class Meta:\n",
    "model = User\n",
    "fields = [‘name’, ‘password’, ‘email’]\n",
    "labels = {‘name’: ‘Enter Name’, ‘password’: ‘Enter Password’, ‘email’: ‘Enter Email’ }\n",
    "widgets = {‘password’:forms.PasswordInput} "
   ]
  },
  {
   "cell_type": "markdown",
   "metadata": {},
   "source": [
    "# save ( ) Method :"
   ]
  },
  {
   "cell_type": "raw",
   "metadata": {},
   "source": [
    "save (commit=False/True) Method - This method creates and saves a database object from the data bound to the form. \n",
    "\n",
    "A subclass of ModelForm can accept an existing model instance as the keyword argument instance, if this is supplied, save() will update that instance. \n",
    "\n",
    "If it’s not supplied, save() will create a new instance of the specified model.\n",
    "\n",
    "If the form hasn’t been validated, calling save( ) will do so by checking form.errors.\n",
    "\n",
    "Syntax:- save (commit=False/True)\n",
    "\n",
    "If commit=False, then it will return an object that hasn’t yet been saved to the database. This is useful if you want to \n",
    "do custom processing on the object before saving it, or if you want to use one of the specialized model saving options.\n",
    "\n",
    "If your model has a many-to-many relation and you specify commit=False when you save a form, Django cannot immediately save the form data for the many-to-many relation. This is because it isn’t possible to save many-to-many data for an instance until the instance exists in the database.\n"
   ]
  },
  {
   "cell_type": "markdown",
   "metadata": {},
   "source": [
    "# code :"
   ]
  },
  {
   "cell_type": "raw",
   "metadata": {},
   "source": [
    "project urls  :\n",
    "    \n",
    "    \n",
    "    \n",
    "\n",
    "\n",
    "\"\"\"meta URL Configuration\n",
    "\n",
    "The `urlpatterns` list routes URLs to views. For more information please see:\n",
    "    https://docs.djangoproject.com/en/3.2/topics/http/urls/\n",
    "Examples:\n",
    "Function views\n",
    "    1. Add an import:  from my_app import views\n",
    "    2. Add a URL to urlpatterns:  path('', views.home, name='home')\n",
    "Class-based views\n",
    "    1. Add an import:  from other_app.views import Home\n",
    "    2. Add a URL to urlpatterns:  path('', Home.as_view(), name='home')\n",
    "Including another URLconf\n",
    "    1. Import the include() function: from django.urls import include, path\n",
    "    2. Add a URL to urlpatterns:  path('blog/', include('blog.urls'))\n",
    "\"\"\"\n",
    "from django.contrib import admin\n",
    "from django.urls import path,include\n",
    "\n",
    "urlpatterns = [\n",
    "    path('admin/', admin.site.urls),\n",
    "    path('',include('app1.urls')),\n",
    "]\n",
    "\n",
    "\n",
    "\n",
    "\n",
    "\n",
    "\n",
    "\n",
    "\n",
    "app.urls :\n",
    "    \n",
    "    \n",
    "    \n",
    "\n",
    "\n",
    "from django.urls import path\n",
    "from . import views\n",
    "\n",
    "urlpatterns = [\n",
    "    path('',views.myfunc),\n",
    "]\n",
    "\n",
    "\n",
    "\n",
    "\n",
    "\n",
    "\n",
    "\n",
    "\n",
    "\n",
    "\n",
    "\n",
    "\n",
    "views.py :\n",
    "    \n",
    "\n",
    "\n",
    "    \n",
    "from django.shortcuts import render\n",
    "from .forms import myform\n",
    "from.models import mymodel\n",
    "# Create your views here.\n",
    "def myfunc(request):\n",
    "    if request.method==\"POST\":\n",
    "        myf=myform(request.POST)\n",
    "        if myf.is_valid():\n",
    "            nm=myf.cleaned_data['name']\n",
    "            rl=myf.cleaned_data['roll']\n",
    "            ps=myf.cleaned_data['password']\n",
    "            myd=mymodel(name=nm,roll=rl,password=ps)# model class object : myd  {name : is model class field}\n",
    "            myd.save()                              # save() method to save the data in the database \n",
    "            return render(request,'app1/app1.html',{'key':myf})\n",
    "    else:  \n",
    "        myf=myform() \n",
    "        return render(request,'app1/app1.html',{'key':myf})\n",
    "    \n",
    "    \n",
    "    \n",
    "    \n",
    "    \n",
    "    \n",
    "    \n",
    "    \n",
    "    \n",
    "    \n",
    "    \n",
    "    \n",
    "models.py :\n",
    "    \n",
    "    \n",
    "    \n",
    "\n",
    "    \n",
    "from django.db import models\n",
    "from django.forms import widgets\n",
    "\n",
    "\n",
    "# Create your models here.\n",
    "\n",
    "class mymodel(models.Model):\n",
    "\n",
    "    name=models.CharField(max_length=20)  # this max_length will be having less priority in the forms.py as max_length is also                                             # defined in the forms.py file above meta class which is having the highest priority \n",
    "    roll=models.IntegerField()\n",
    "    \n",
    "    password=models.CharField(max_length=50)\n",
    "\n",
    "\n",
    "\n",
    "\n",
    "\n",
    "\n",
    "\n",
    "\n",
    "admin.py :\n",
    "\n",
    "\n",
    "\n",
    "\n",
    "\n",
    "from django.contrib import admin\n",
    "\n",
    "from app1.models import mymodel\n",
    "\n",
    "# Register your models here.\n",
    "@admin.register(mymodel)\n",
    "\n",
    "\n",
    "class mymodelAdmin(admin.ModelAdmin):\n",
    "    list_display=('id','name','roll','password') \n"
   ]
  },
  {
   "cell_type": "markdown",
   "metadata": {},
   "source": [
    "## forms.py :"
   ]
  },
  {
   "cell_type": "code",
   "execution_count": null,
   "metadata": {},
   "outputs": [],
   "source": [
    "from django import forms\n",
    "from django.forms import fields\n",
    "from.models import mymodel\n",
    "\n",
    "class myform(forms.ModelForm):                            # note : forms.ModelForm\n",
    "    \n",
    "    name=forms.CharField(max_length=32,min_length=10) \n",
    "    \n",
    "    # this above defined validator will have more priority ( u can see the page source)\n",
    "    \n",
    "    class Meta:                                          # note : class Meta ( with capital M )\n",
    "        \n",
    "        model=mymodel\n",
    "        \n",
    "        fields=['name','roll','password']\n",
    "        labels={'name':'enter your name ','roll':'enter your roll','password':'enter your password'}\n",
    "        help_text={'name':'PLEASE enter your correct name !!'}\n",
    "        error_messages={'name':{'required':'enter correct name ','max_length':20,'min_length':5}} \n",
    "        \n",
    "        # this above validator will have less priority \n",
    "        \n",
    "        widgets={\n",
    "            'password':forms.PasswordInput,\n",
    "            'name':forms.TextInput(attrs={'class':'myclass','placeholder':'your name '}),\n",
    "            'roll':forms.TextInput(attrs={'class':'rollclass','placeholder':'roll num please'})\n",
    "        }\n"
   ]
  },
  {
   "cell_type": "markdown",
   "metadata": {},
   "source": [
    "# html code :"
   ]
  },
  {
   "cell_type": "code",
   "execution_count": null,
   "metadata": {},
   "outputs": [],
   "source": [
    "<!DOCTYPE html>\n",
    "<html lang=\"en\">\n",
    "\n",
    "<head>\n",
    "    <meta charset=\"UTF-8\">\n",
    "    <meta http-equiv=\"X-UA-Compatible\" content=\"IE=edge\">\n",
    "    <meta name=\"viewport\" content=\"width=device-width, initial-scale=1.0\">\n",
    "    <title>Document</title>\n",
    "    <style>\n",
    "        h1{\n",
    "            color: white;\n",
    "            text-shadow: 3px 3px 3px black;\n",
    "        }\n",
    "        .content{\n",
    "            height: 70px;\n",
    "            background-color: cadetblue;\n",
    "            width: 100%;\n",
    "            text-align: center;\n",
    "            position: relative;\n",
    "        }\n",
    "    </style>\n",
    "</head>\n",
    "\n",
    "<body  >\n",
    "    <div class=\"content\"> <h1>fill the following data :</h1></div>\n",
    "    <form action=\"\" method=\"POST\" novalidate >\n",
    "        {% csrf_token %}\n",
    "        {{key.as_p}}\n",
    "        <input type=\"submit\" value=\"submit\">\n",
    "        <hr>\n",
    "    </form>\n",
    "</body>\n",
    "\n",
    "</html>"
   ]
  },
  {
   "cell_type": "markdown",
   "metadata": {},
   "source": [
    "# 57. Dynamic url in Django"
   ]
  },
  {
   "cell_type": "markdown",
   "metadata": {},
   "source": [
    "## Dynamic URL :"
   ]
  },
  {
   "cell_type": "raw",
   "metadata": {},
   "source": [
    "urlpatterns = [\n",
    "path(‘student/', views.show_details, name=“detail”),\n",
    "path(‘student/<my_id>/', views.show_details, name=“detail”),\n",
    "path(‘student/<int:my_id>/', views.shows_details, name=“detail”),\n",
    "path(‘student /<int:my_id>/<int:my_subid>/', views.shows_details, name=“detail”),\n",
    "path(‘student/<int:id>/<int:subid>/<slug:my_slug>/', views.shows_details, name=“detail”),\n",
    "]\n"
   ]
  },
  {
   "cell_type": "markdown",
   "metadata": {},
   "source": [
    "## Path Converters :"
   ]
  },
  {
   "cell_type": "raw",
   "metadata": {},
   "source": [
    "• str - Matches any non-empty string, excluding the path separator, '/'. This is the default if a converter isn’t included in     the expression.\n",
    "\n",
    "• int - Matches zero or any positive integer. Returns an int.\n",
    "\n",
    "• slug - Matches any slug string consisting of ASCII letters or numbers, plus the hyphen and underscore characters. For example,   building-your-1st-django-site.\n",
    "\n",
    "• uuid - Matches a formatted UUID. To prevent multiple URLs from mapping to the same page, dashes must be included and letters     must be lowercase. For example, 075194d3-6885-417e-a8a8-6c931e272f00. Returns a UUID instance.\n",
    "\n",
    "• path - Matches any non-empty string, including the path separator, '/'. This allows you to match against a complete URL path     rather than a segment of a URL path as with str"
   ]
  },
  {
   "cell_type": "markdown",
   "metadata": {},
   "source": [
    "## Specifying defaults for view arguments :"
   ]
  },
  {
   "cell_type": "markdown",
   "metadata": {},
   "source": [
    "## urls.py :"
   ]
  },
  {
   "cell_type": "raw",
   "metadata": {},
   "source": [
    "from django.urls import path\n",
    "from . import views\n",
    "urlpatterns = [\n",
    "path('blog/', views.page),\n",
    "path('blog/page/<int:num>/', views.page),\n",
    "]\n",
    "\n"
   ]
  },
  {
   "cell_type": "markdown",
   "metadata": {},
   "source": [
    "## views.py :"
   ]
  },
  {
   "cell_type": "raw",
   "metadata": {},
   "source": [
    "def page(request, num=1):   # which shows if we didn't passed any value from the url for num , then it will by default will                                 # take 'num=1'"
   ]
  },
  {
   "cell_type": "markdown",
   "metadata": {},
   "source": [
    "## Passing extra options to view functions :"
   ]
  },
  {
   "cell_type": "raw",
   "metadata": {},
   "source": [
    "path(route, view, kwargs=None, name=None)\n",
    "\n",
    "The kwargs argument allows you to pass additional arguments to the view function or method. It should be a dictionary.\n",
    "\n",
    "\n",
    "\n",
    "\n",
    "\n",
    "\n",
    "urls.py :\n",
    "\n",
    "\n",
    "\n",
    "\n",
    "\n",
    "urlpatterns = [\n",
    "path(route, view, kwargs=None, name=None) \n",
    "]\n",
    "\n",
    "\n",
    "\n",
    "\n",
    "\n",
    "\n",
    "\n",
    "\n",
    "\n",
    "\n",
    "urls.py :\n",
    "\n",
    "\n",
    "\n",
    "urlpatterns = [\n",
    "path(‘’, views.home, {‘check’: ‘OK’ }),\n",
    "]\n",
    "\n",
    "\n",
    "\n",
    "\n",
    "\n",
    "\n",
    "\n",
    "\n",
    "\n",
    "views.py :\n",
    "\n",
    "\n",
    "def home(request, check):\n",
    "print(check)\n"
   ]
  },
  {
   "cell_type": "markdown",
   "metadata": {},
   "source": [
    "# project's urls :"
   ]
  },
  {
   "cell_type": "code",
   "execution_count": null,
   "metadata": {},
   "outputs": [],
   "source": [
    "\"\"\"dynamicurl URL Configuration\n",
    "\n",
    "The `urlpatterns` list routes URLs to views. For more information please see:\n",
    "    https://docs.djangoproject.com/en/3.2/topics/http/urls/\n",
    "Examples:\n",
    "Function views\n",
    "    1. Add an import:  from my_app import views\n",
    "    2. Add a URL to urlpatterns:  path('', views.home, name='home')\n",
    "Class-based views\n",
    "    1. Add an import:  from other_app.views import Home\n",
    "    2. Add a URL to urlpatterns:  path('', Home.as_view(), name='home')\n",
    "Including another URLconf\n",
    "    1. Import the include() function: from django.urls import include, path\n",
    "    2. Add a URL to urlpatterns:  path('blog/', include('blog.urls'))\n",
    "\"\"\"\n",
    "from django.contrib import admin\n",
    "from django.urls import path\n",
    "from app1 import views\n",
    "\n",
    "urlpatterns = [\n",
    "    path('admin/', admin.site.urls),\n",
    "    path('',views.home,{'i_am_kwargs': 'i am kwargs passed from the url'},name=\"home\"),\n",
    "    path('student/<my_id>',views.myfunc,name=\"output\"), # this <my_id> should be passed in the function too !!\n",
    "    # also <my_id> holds the vlaue which is by default string !!\n",
    "\n",
    "    path('student/<int:my_id>/<int:submy_id>/',views.mysub_id,name='subdetail'),\n",
    "]             # also <int:my_id> holds the vlaue which is integer here !!\n",
    "\n",
    "\n"
   ]
  },
  {
   "cell_type": "markdown",
   "metadata": {},
   "source": [
    "# views.py :"
   ]
  },
  {
   "cell_type": "code",
   "execution_count": null,
   "metadata": {},
   "outputs": [],
   "source": [
    "from django.shortcuts import render\n",
    "\n",
    "# Create your views here.\n",
    "\n",
    "def home(request,i_am_kwargs):\n",
    "    return render(request,'app1/home.html',{'key':i_am_kwargs})\n",
    "\n",
    "\n",
    "# def myfunc(request,my_id):# this <my_id> get passed from urls.py file now can be used in the function which is  by default a string passed from the home.html\n",
    "#     dictn={'key':my_id}\n",
    "#     return render(request,'app1/output.html',dictn)\n",
    "\n",
    "\n",
    "def myfunc(request,my_id):# this <my_id> get passed from urls.py file now can be used in the function which is  by default a string passed from the home.html\n",
    "    if my_id =='1':\n",
    "        dictn={'name':'pankaj','roll':1,'house_no': 128} \n",
    "    return render(request,'app1/output.html',dictn)\n",
    "\n",
    "\n",
    "def mysub_id(request,my_id,submy_id=2):  # we can give some default value to 'submy_id'=2 if didn't get passed from urls.py file .\n",
    "    if my_id==1 and submy_id==2 :\n",
    "        dictn={'name': 'pankaj jii','roll':21}\n",
    "        return render(request,'app1/output.html',dictn)\n",
    "\n",
    "\n"
   ]
  },
  {
   "cell_type": "markdown",
   "metadata": {},
   "source": [
    "# home.html :"
   ]
  },
  {
   "cell_type": "code",
   "execution_count": null,
   "metadata": {},
   "outputs": [],
   "source": [
    "<!DOCTYPE html>\n",
    "<html lang=\"en\">\n",
    "<head>\n",
    "    <meta charset=\"UTF-8\">\n",
    "    <meta http-equiv=\"X-UA-Compatible\" content=\"IE=edge\">\n",
    "    <meta name=\"viewport\" content=\"width=1, initial-scale=1.0\">\n",
    "    <title>Document</title>\n",
    "    <style>\n",
    "        body{\n",
    "            background-color: grey;\n",
    "        }\n",
    "        h1{\n",
    "            color: black;\n",
    "        }\n",
    "    </style>\n",
    "</head>\n",
    "<body>\n",
    "    <h1> this is the home file </h1>\n",
    "    {{key}} <br><br>\n",
    "    <a href=\"{% url 'output' 1 %}\">this is button which will take you to the output</a> \n",
    "    <!--  above \"{% url 'output' 1 %}\"> , here ( 1 ) is the <my_id> passed to the project's url file for url name 'output' -->\n",
    "    <a href=\"{% url 'subdetail'  1 2 %}\">for sub details</a>\n",
    "</body>\n",
    "</html>\n",
    "\n",
    "\n"
   ]
  },
  {
   "cell_type": "markdown",
   "metadata": {},
   "source": [
    "# output.html :"
   ]
  },
  {
   "cell_type": "code",
   "execution_count": null,
   "metadata": {},
   "outputs": [],
   "source": [
    "<!DOCTYPE html>\n",
    "<html lang=\"en\">\n",
    "<head>\n",
    "    <meta charset=\"UTF-8\">\n",
    "    <meta http-equiv=\"X-UA-Compatible\" content=\"IE=edge\">\n",
    "    <meta name=\"viewport\" content=\"width=1, initial-scale=1.0\">\n",
    "    <title>Document</title>\n",
    "    <style>\n",
    "        body{\n",
    "            background-color: grey;\n",
    "        }\n",
    "        h1{\n",
    "            color: black;\n",
    "        }\n",
    "    </style>\n",
    "</head>\n",
    "<body>\n",
    "    <h1> this is the output file </h1>\n",
    "    <h1>{{name}}</h1>\n",
    "    <h1>{{roll}}</h1>\n",
    "    <a href=\"{% url 'home'%}\">way back to home</a>\n",
    "    \n",
    "</body>\n",
    "</html>"
   ]
  },
  {
   "cell_type": "markdown",
   "metadata": {},
   "source": [
    "# gs code :"
   ]
  },
  {
   "cell_type": "markdown",
   "metadata": {},
   "source": [
    "## urls.py project :"
   ]
  },
  {
   "cell_type": "raw",
   "metadata": {},
   "source": [
    "from django.contrib import admin\n",
    "from django.urls import path, include\n",
    "from enroll import views\n",
    "urlpatterns = [\n",
    "    path('admin/', admin.site.urls),\n",
    "    path('', views.home, {'check':'OK'}, name=\"ghar\"),\n",
    "    path('student/', include('enroll.urls'))\n",
    "]\n"
   ]
  },
  {
   "cell_type": "markdown",
   "metadata": {},
   "source": [
    "## urls.py app :"
   ]
  },
  {
   "cell_type": "raw",
   "metadata": {},
   "source": [
    "from django.urls import path\n",
    "from . import views\n",
    "urlpatterns = [\n",
    "    # path('student/<my_id>/', views.show_details, name=\"detail\"),\n",
    "    path('<int:my_id>/', views.show_details, name=\"detail\"),\n",
    "    path('<int:my_id>/<int:my_subid>/', views.show_subdetails, name=\"subdetail\"),\n",
    "]\n"
   ]
  },
  {
   "cell_type": "markdown",
   "metadata": {},
   "source": [
    "## views.py :"
   ]
  },
  {
   "cell_type": "raw",
   "metadata": {},
   "source": [
    "from django.shortcuts import render\n",
    "\n",
    "# Create your views here.\n",
    "def home(request, check):\n",
    " return render(request, 'enroll/home.html', {'ch':check})\n",
    "\n",
    "# def show_details(request, my_id):\n",
    "#  student = {'id':my_id}\n",
    "#  return render(request, 'enroll/show.html', student)\n",
    "\n",
    "def show_details(request, my_id=1):\n",
    " if my_id == 1:\n",
    "  student = {'id':my_id, 'name':'Rohan'}\n",
    " if my_id == 2:\n",
    "  student = {'id':my_id, 'name':'Sonam'}\n",
    " if my_id == 3:\n",
    "  student = {'id':my_id, 'name':'Ali'}\n",
    " return render(request, 'enroll/show.html', student)\n",
    "\n",
    "def show_subdetails(request, my_id, my_subid):\n",
    " if my_id == 1 and my_subid == 5:\n",
    "  student = {'id':my_id, 'name':'Rohan', 'info':'Sub Details'}\n",
    " if my_id == 2 and my_subid == 6:\n",
    "  student = {'id':my_id, 'name':'Sonam', 'info':'Sub Details'}\n",
    " if my_id == 3 and my_subid == 7:\n",
    "  student = {'id':my_id, 'name':'Ali', 'info':'Sub Details'}\n",
    " return render(request, 'enroll/show.html', student)"
   ]
  },
  {
   "cell_type": "markdown",
   "metadata": {},
   "source": [
    "# 58. custom path converters"
   ]
  },
  {
   "cell_type": "code",
   "execution_count": null,
   "metadata": {},
   "outputs": [],
   "source": []
  },
  {
   "cell_type": "code",
   "execution_count": null,
   "metadata": {},
   "outputs": [],
   "source": []
  }
 ],
 "metadata": {
  "kernelspec": {
   "display_name": "Python 3",
   "language": "python",
   "name": "python3"
  },
  "language_info": {
   "codemirror_mode": {
    "name": "ipython",
    "version": 3
   },
   "file_extension": ".py",
   "mimetype": "text/x-python",
   "name": "python",
   "nbconvert_exporter": "python",
   "pygments_lexer": "ipython3",
   "version": "3.8.5"
  },
  "widgets": {
   "application/vnd.jupyter.widget-state+json": {
    "state": {},
    "version_major": 2,
    "version_minor": 0
   }
  }
 },
 "nbformat": 4,
 "nbformat_minor": 4
}
