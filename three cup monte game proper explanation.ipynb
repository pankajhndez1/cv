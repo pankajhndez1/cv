{
 "cells": [
  {
   "cell_type": "code",
   "execution_count": 3,
   "metadata": {},
   "outputs": [],
   "source": [
    "from random import shuffle"
   ]
  },
  {
   "cell_type": "code",
   "execution_count": 4,
   "metadata": {},
   "outputs": [
    {
     "name": "stdout",
     "output_type": "stream",
     "text": [
      "pick a number!: 0,1, or 21\n",
      "wrong guess!\n",
      "['', '', 'O']\n"
     ]
    }
   ],
   "source": [
    "# initial list\n",
    "\n",
    "\n",
    "\n",
    "mylist=['','','O']\n",
    "\n",
    "\n",
    "\n",
    "# shuffle list\n",
    "\n",
    "\n",
    "\n",
    "def my_func(mylist):\n",
    "    shuffle(mylist)\n",
    "    return mylist\n",
    "\n",
    "mixedup_list=my_func(mylist)\n",
    "\n",
    "\n",
    "\n",
    "# user guess\n",
    "\n",
    "\n",
    "\n",
    "def player_guess():\n",
    "    \n",
    "    guess='' # we start off with a placeholder of the user guess and user can guess essentially 0,1,2 as index position\n",
    "    \n",
    "    while guess not in['0','1','2']:\n",
    "    # while our guess is not in [our defined parameters] keep asking the below given statement \n",
    "        \n",
    "        guess=input(\"pick a number!: 0,1, or 2\")\n",
    "        \n",
    "        \n",
    "    return int(guess) \n",
    "\n",
    "# here we use int version of guess bcoz input function which is just defined above return the string version of any input given to it!!\n",
    "\n",
    "guess=player_guess()\n",
    "\n",
    "#CHECK GUESS\n",
    "\n",
    "def check_guess(mixedup_list,guess):\n",
    "    if mixedup_list[guess]=='O':\n",
    "        print(\"correct!\")\n",
    "    else:\n",
    "        print(\"wrong guess!\")\n",
    "        print(mixedup_list)\n",
    "\n",
    "check_guess(mixedup_list,guess)\n",
    "\n",
    "\n"
   ]
  },
  {
   "cell_type": "code",
   "execution_count": null,
   "metadata": {},
   "outputs": [],
   "source": []
  },
  {
   "cell_type": "code",
   "execution_count": null,
   "metadata": {},
   "outputs": [],
   "source": []
  },
  {
   "cell_type": "code",
   "execution_count": 9,
   "metadata": {},
   "outputs": [],
   "source": [
    "#  now checking step by step"
   ]
  },
  {
   "cell_type": "code",
   "execution_count": 4,
   "metadata": {},
   "outputs": [],
   "source": [
    "from random import shuffle"
   ]
  },
  {
   "cell_type": "code",
   "execution_count": 5,
   "metadata": {},
   "outputs": [],
   "source": [
    "# STEP 1:\n",
    "# initial list\n",
    "\n",
    "\n",
    "\n",
    "mylist=['','','O']\n"
   ]
  },
  {
   "cell_type": "code",
   "execution_count": 6,
   "metadata": {},
   "outputs": [],
   "source": [
    "# STEP 2:\n",
    "# shuffle list\n",
    "\n",
    "\n",
    "\n",
    "def my_func(mylist):\n",
    "    shuffle(mylist)\n",
    "    return mylist\n",
    "\n",
    "mixedup_list=my_func(mylist) # as we have use return so we can assign it to a variable!!! i.e  [mixedup_list]"
   ]
  },
  {
   "cell_type": "code",
   "execution_count": 7,
   "metadata": {},
   "outputs": [],
   "source": [
    "# STEP 3\n",
    "\n",
    "# user guess \n",
    "\n",
    "# given below"
   ]
  },
  {
   "cell_type": "code",
   "execution_count": 8,
   "metadata": {},
   "outputs": [],
   "source": [
    "def player_guess():\n",
    "    \n",
    "    guess=''\n",
    "    \n",
    "\n",
    "    guess=input(\"pick a number!: 0,1, or 2\")\n",
    "    \n",
    "    \n",
    "    # now in order to check that the guess is actually correct we could add in some extra code here \n",
    "    # here we can use the while loop to make sure that the input is correct!! \n",
    "         "
   ]
  },
  {
   "cell_type": "code",
   "execution_count": 9,
   "metadata": {},
   "outputs": [
    {
     "name": "stdout",
     "output_type": "stream",
     "text": [
      "pick a number!: 0,1, or 21\n"
     ]
    }
   ],
   "source": [
    "#STEP 3\n",
    "\n",
    "# user guess\n",
    "\n",
    "\n",
    "\n",
    "def player_guess():\n",
    "    \n",
    "    guess='' # we start off with a placeholder of the user guess and user can guess essentially 0,1,2 as index position\n",
    "    \n",
    "    while guess not in['0','1','2']:\n",
    "    # while our guess is not in [our defined parameters] keep asking the below given statement  \n",
    "        \n",
    "        guess=input(\"pick a number!: 0,1, or 2\")\n",
    "        \n",
    "        \n",
    "    return int(guess) \n",
    "\n",
    "# here we use int version of guess bcoz input function which is just defined above!! returns the string version of any input given to it!!\n",
    "\n",
    "guess=player_guess()\n",
    "\n",
    "\n"
   ]
  },
  {
   "cell_type": "code",
   "execution_count": 10,
   "metadata": {},
   "outputs": [],
   "source": [
    "#STEP 4\n",
    "\n",
    "#CHECK GUESS\n",
    "\n",
    "def check_guess(mixedup_list,guess):\n",
    "    if mixedup_list[guess]=='O':\n",
    "        print(\"correct!\")\n",
    "    else:\n",
    "        print(\"wrong guess!\")\n",
    "        print(mixedup_list)\n",
    "        \n",
    "        "
   ]
  },
  {
   "cell_type": "code",
   "execution_count": 11,
   "metadata": {},
   "outputs": [
    {
     "name": "stdout",
     "output_type": "stream",
     "text": [
      "wrong guess!\n",
      "['O', '', '']\n"
     ]
    }
   ],
   "source": [
    "# STEP 5:\n",
    "\n",
    "#CHECKING THE O/P RESULT  i.e my shuffled list and guessed o/p\n",
    "\n",
    "\n",
    "check_guess(mixedup_list,guess)"
   ]
  },
  {
   "cell_type": "code",
   "execution_count": null,
   "metadata": {},
   "outputs": [],
   "source": []
  }
 ],
 "metadata": {
  "kernelspec": {
   "display_name": "Python 3",
   "language": "python",
   "name": "python3"
  },
  "language_info": {
   "codemirror_mode": {
    "name": "ipython",
    "version": 3
   },
   "file_extension": ".py",
   "mimetype": "text/x-python",
   "name": "python",
   "nbconvert_exporter": "python",
   "pygments_lexer": "ipython3",
   "version": "3.8.5"
  }
 },
 "nbformat": 4,
 "nbformat_minor": 4
}
