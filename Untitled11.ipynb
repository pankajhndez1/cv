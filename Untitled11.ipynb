{
 "cells": [
  {
   "cell_type": "code",
   "execution_count": 11,
   "metadata": {},
   "outputs": [
    {
     "name": "stdout",
     "output_type": "stream",
     "text": [
      "i dont know much\n"
     ]
    }
   ],
   "source": [
    "loc=\"hey\"\n",
    "\n",
    "if loc==\"game\":\n",
    "    print(\"it is a gaming centre\")\n",
    "elif loc==\"chandigarh\":\n",
    "    print(\"it is a beautiful city\")\n",
    "elif loc==\"delhi\":\n",
    "    print(\"dirty place to live in\")\n",
    "else:\n",
    "    print(\"i dont know much\")\n"
   ]
  },
  {
   "cell_type": "code",
   "execution_count": 24,
   "metadata": {},
   "outputs": [
    {
     "name": "stdout",
     "output_type": "stream",
     "text": [
      "he is a cool guy\n"
     ]
    }
   ],
   "source": [
    "name=\"pankaj\"\n",
    "\n",
    "if name==\"pankaj\":\n",
    "    print(\"he is a cool guy\")\n",
    "elif name==\"ranjana\":\n",
    "    print(\"she is pankaj sister\")\n",
    "elif name==\"manish\":\n",
    "    print(\"he is younger brother of pankaj\")\n",
    "elif name==\"kunwar ram\":\n",
    "    print(\"pankaj's father\")\n",
    "elif name==\"sarita devi\":\n",
    "    print(\"pankaj's mother\")\n",
    "else:\n",
    "    print(\"not a member of pankaj's family\")"
   ]
  },
  {
   "cell_type": "code",
   "execution_count": 29,
   "metadata": {},
   "outputs": [
    {
     "name": "stdout",
     "output_type": "stream",
     "text": [
      "yes i have visited there\n"
     ]
    }
   ],
   "source": [
    "loc=\"kfc\"\n",
    "\n",
    "if loc==\"starbucks\":\n",
    "    print(\"not visited yet\")\n",
    "elif loc==\"mac D\":\n",
    "    print(\"sometimes\")\n",
    "elif loc==\"kfc\":\n",
    "    print(\"yes i have visited there\")\n",
    "else :\n",
    "    print(\"may be one day i wil visit\")\n",
    " "
   ]
  },
  {
   "cell_type": "code",
   "execution_count": null,
   "metadata": {},
   "outputs": [],
   "source": []
  },
  {
   "cell_type": "code",
   "execution_count": null,
   "metadata": {},
   "outputs": [],
   "source": []
  }
 ],
 "metadata": {
  "kernelspec": {
   "display_name": "Python 3",
   "language": "python",
   "name": "python3"
  },
  "language_info": {
   "codemirror_mode": {
    "name": "ipython",
    "version": 3
   },
   "file_extension": ".py",
   "mimetype": "text/x-python",
   "name": "python",
   "nbconvert_exporter": "python",
   "pygments_lexer": "ipython3",
   "version": "3.8.5"
  }
 },
 "nbformat": 4,
 "nbformat_minor": 4
}
